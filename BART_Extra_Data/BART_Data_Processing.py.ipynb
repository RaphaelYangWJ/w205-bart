{
 "cells": [
  {
   "cell_type": "markdown",
   "source": [
    "# BART Data Engineering"
   ],
   "metadata": {
    "collapsed": false
   }
  },
  {
   "cell_type": "code",
   "execution_count": 5,
   "metadata": {
    "collapsed": true
   },
   "outputs": [],
   "source": [
    "# === Import modules\n",
    "import pandas as pd\n",
    "import os"
   ]
  },
  {
   "cell_type": "markdown",
   "source": [
    "## Functions"
   ],
   "metadata": {
    "collapsed": false
   }
  },
  {
   "cell_type": "code",
   "execution_count": 6,
   "outputs": [],
   "source": [
    "# === Function A : Reformat Source Dataset\n",
    "def reformat_dataset(dataset_path):\n",
    "    # Create a temp dataset\n",
    "    temp_dataframe = pd.DataFrame(columns = [\"weekday\",\"entry_station\",\"exit_station\",\"exits count\"])\n",
    "    # Get Date\n",
    "    source_data = pd.read_excel(dataset_path)\n",
    "    week_day = pd.to_datetime(source_data.columns.tolist()[6])\n",
    "    # Import Dataset\n",
    "    source_data = pd.read_excel(dataset_path,skiprows=1)\n",
    "    station_list = source_data.columns.to_list()[1:-1]\n",
    "    # Reformat Data\n",
    "    for row_index in range(0,len(source_data)-1):\n",
    "        for col in station_list:\n",
    "            entry_station = str(col).strip()\n",
    "            exit_station = str(source_data.iloc[row_index][\"Unnamed: 0\"]).strip()\n",
    "            exits = float(source_data.iloc[row_index][col])\n",
    "            temp_dataframe.loc[len(temp_dataframe)+1] = [week_day,entry_station,exit_station,exits]\n",
    "    return temp_dataframe"
   ],
   "metadata": {
    "collapsed": false
   }
  },
  {
   "cell_type": "code",
   "execution_count": 7,
   "outputs": [],
   "source": [
    "# === Function B : Full Station name mapping\n",
    "station_name_data = pd.read_excel(\"F:/Coding Projects/Data_Spell_Workspace/project_w205/project3/Explanatory/station-names.xlsx\")\n",
    "station_name_data[\"Two-Letter Station Code\"] = station_name_data[\"Two-Letter Station Code\"].apply(lambda x: str(x))\n",
    "def full_station_name_mapping(station_abbrev):\n",
    "    return str(station_name_data.loc[station_name_data[\"Two-Letter Station Code\"]==str(station_abbrev),\"Station Name\"].values[0])"
   ],
   "metadata": {
    "collapsed": false
   }
  },
  {
   "cell_type": "markdown",
   "source": [
    "## Dataset Reformat in Batches"
   ],
   "metadata": {
    "collapsed": false
   }
  },
  {
   "cell_type": "code",
   "execution_count": 8,
   "outputs": [
    {
     "name": "stdout",
     "output_type": "stream",
     "text": [
      "1 / 42 completed:  Ridership_202001.xlsx\n",
      "2 / 42 completed:  Ridership_202002.xlsx\n",
      "3 / 42 completed:  Ridership_202003.xlsx\n",
      "4 / 42 completed:  Ridership_202004.xlsx\n",
      "5 / 42 completed:  Ridership_202005.xlsx\n",
      "6 / 42 completed:  Ridership_202006.xlsx\n",
      "7 / 42 completed:  Ridership_202007.xlsx\n",
      "8 / 42 completed:  Ridership_202008.xlsx\n",
      "9 / 42 completed:  Ridership_202009.xlsx\n",
      "10 / 42 completed:  Ridership_202010.xlsx\n",
      "11 / 42 completed:  Ridership_202011.xlsx\n",
      "12 / 42 completed:  Ridership_202012.xlsx\n",
      "13 / 42 completed:  Ridership_202101.xlsx\n",
      "14 / 42 completed:  Ridership_202102.xlsx\n",
      "15 / 42 completed:  Ridership_202103.xlsx\n",
      "16 / 42 completed:  Ridership_202104.xlsx\n",
      "17 / 42 completed:  Ridership_202105.xlsx\n",
      "18 / 42 completed:  Ridership_202106.xlsx\n",
      "19 / 42 completed:  Ridership_202107.xlsx\n",
      "20 / 42 completed:  Ridership_202108.xlsx\n",
      "21 / 42 completed:  Ridership_202109.xlsx\n",
      "22 / 42 completed:  Ridership_202110.xlsx\n",
      "23 / 42 completed:  Ridership_202111.xlsx\n",
      "24 / 42 completed:  Ridership_202112.xlsx\n",
      "25 / 42 completed:  Ridership_202201.xlsx\n",
      "26 / 42 completed:  Ridership_202202.xlsx\n",
      "27 / 42 completed:  Ridership_202203.xlsx\n",
      "28 / 42 completed:  Ridership_202204.xlsx\n",
      "29 / 42 completed:  Ridership_202205.xlsx\n",
      "30 / 42 completed:  Ridership_202206.xlsx\n",
      "31 / 42 completed:  Ridership_202207.xlsx\n",
      "32 / 42 completed:  Ridership_202208.xlsx\n",
      "33 / 42 completed:  Ridership_202209.xlsx\n",
      "34 / 42 completed:  Ridership_202210.xlsx\n",
      "35 / 42 completed:  Ridership_202211.xlsx\n",
      "36 / 42 completed:  Ridership_202212.xlsx\n",
      "37 / 42 completed:  Ridership_202301.xlsx\n",
      "38 / 42 completed:  Ridership_202302.xlsx\n",
      "39 / 42 completed:  Ridership_202303.xlsx\n",
      "40 / 42 completed:  Ridership_202304.xlsx\n",
      "41 / 42 completed:  Ridership_202305.xlsx\n",
      "42 / 42 completed:  Ridership_202306.xlsx\n"
     ]
    }
   ],
   "source": [
    "# === Dataset Reformat6\n",
    "data_panel = pd.DataFrame(columns = [\"weekday\",\"entry_station\",\"exit_station\",\"exits count\"])\n",
    "parent_path = \"F:/Coding Projects/Data_Spell_Workspace/project_w205/project3/source_data/\"\n",
    "file_list = os.listdir(parent_path)\n",
    "\n",
    "for file in file_list:\n",
    "    file_path = parent_path + file\n",
    "    data_panel = pd.concat([data_panel,reformat_dataset(file_path)])\n",
    "    print(file_list.index(file)+1,\"/\",len(file_list),\"completed: \",file)"
   ],
   "metadata": {
    "collapsed": false
   }
  },
  {
   "cell_type": "markdown",
   "source": [
    "## Map Station Full Names and Export"
   ],
   "metadata": {
    "collapsed": false
   }
  },
  {
   "cell_type": "code",
   "execution_count": 9,
   "outputs": [],
   "source": [
    "# === Get Full name station\n",
    "data_panel[\"entry_station_full_name\"] = data_panel[\"entry_station\"].apply(lambda x: full_station_name_mapping(x))\n",
    "data_panel[\"exit_station_full_name\"] = data_panel[\"exit_station\"].apply(lambda x: full_station_name_mapping(x))\n",
    "# === Export to local\n",
    "data_panel.to_csv(\"BART_entry_exist.csv\",index=False)"
   ],
   "metadata": {
    "collapsed": false
   }
  }
 ],
 "metadata": {
  "kernelspec": {
   "name": "conda-env-Data_Science-py",
   "language": "python",
   "display_name": "Python [conda env:Data_Science]"
  },
  "language_info": {
   "codemirror_mode": {
    "name": "ipython",
    "version": 2
   },
   "file_extension": ".py",
   "mimetype": "text/x-python",
   "name": "python",
   "nbconvert_exporter": "python",
   "pygments_lexer": "ipython2",
   "version": "2.7.6"
  }
 },
 "nbformat": 4,
 "nbformat_minor": 0
}
